{
 "cells": [
  {
   "cell_type": "code",
   "execution_count": 1,
   "metadata": {},
   "outputs": [],
   "source": [
    "#coding=utf-8\n",
    "import matplotlib.pyplot as plt\n",
    "import pandas as pd\n",
    "import numpy as np"
   ]
  },
  {
   "cell_type": "code",
   "execution_count": 2,
   "metadata": {},
   "outputs": [],
   "source": [
    "f = pd.read_csv('./atbats.csv')"
   ]
  },
  {
   "cell_type": "markdown",
   "metadata": {},
   "source": [
    "##  1.标称属性列\n",
    "\n",
    "观察文件可知，标称属性列为 `event`, `p_throws`, `stand`,`top`, 打印出其每列每一可能取值的频数"
   ]
  },
  {
   "cell_type": "code",
   "execution_count": 8,
   "metadata": {},
   "outputs": [
    {
     "name": "stdout",
     "output_type": "stream",
     "text": [
      "event:\n",
      "Strikeout               157128\n",
      "Groundout               134893\n",
      "Single                  108794\n",
      "Flyout                   80731\n",
      "Walk                     56894\n",
      "Lineout                  44934\n",
      "Pop Out                  34455\n",
      "Double                   33157\n",
      "Home Run                 22209\n",
      "Forceout                 15112\n",
      "Grounded Into DP         14717\n",
      "Hit By Pitch              6938\n",
      "Field Error               6390\n",
      "Sac Fly                   4773\n",
      "Sac Bunt                  3969\n",
      "Intent Walk               3782\n",
      "Triple                    3454\n",
      "Double Play               1807\n",
      "Runner Out                1742\n",
      "Bunt Groundout            1253\n",
      "Fielders Choice Out       1250\n",
      "Strikeout - DP             580\n",
      "Bunt Pop Out               569\n",
      "Fielders Choice            395\n",
      "Batter Interference        158\n",
      "Catcher Interference       153\n",
      "Sac Fly DP                  76\n",
      "Bunt Lineout                52\n",
      "Triple Play                 20\n",
      "Sacrifice Bunt DP            4\n",
      "Name: event, dtype: int64\n",
      "\n",
      "p_throws:\n",
      "R    542102\n",
      "L    198287\n",
      "Name: p_throws, dtype: int64\n",
      "\n",
      "stand:\n",
      "R    433070\n",
      "L    307319\n",
      "Name: stand, dtype: int64\n",
      "\n",
      "top:\n",
      "True     377283\n",
      "False    363106\n",
      "Name: top, dtype: int64\n",
      "\n"
     ]
    }
   ],
   "source": [
    "for x in ['event', 'p_throws', 'stand', 'top']:\n",
    "    print('%s:' % x)\n",
    "    print(f[x].value_counts())\n",
    "    print()\n",
    "    "
   ]
  },
  {
   "cell_type": "markdown",
   "metadata": {},
   "source": [
    "##  2.数值属性列\n",
    "### 2.1 摘要\n",
    "\n",
    "数值属性列有 `batter_id`, `g_id`, `innint`, `o`, `p_score`, `pitcher_id`, 打印出最大、最小、均值、中位数、四分位数及缺失值个数\n"
   ]
  },
  {
   "cell_type": "code",
   "execution_count": 11,
   "metadata": {},
   "outputs": [
    {
     "name": "stdout",
     "output_type": "stream",
     "text": [
      "batter_id列\n",
      "最大值:673633 最小值:112526 平均值:520222.97150416876 下四分位数:457759.0 中位数:519317.0 上四分位数:592273.0 缺失值个数:0\n",
      "g_id列\n",
      "最大值:201802431 最小值:201500001 平均值:201651556.15267786 下四分位数:201600013.0 中位数:201700015.0 上四分位数:201800006.0 缺失值个数:0\n",
      "inning列\n",
      "最大值:19 最小值:1 平均值:5.008160575049062 下四分位数:3.0 中位数:5.0 上四分位数:7.0 缺失值个数:0\n",
      "o列\n",
      "最大值:3 最小值:0 平均值:1.676713187256969 下四分位数:1.0 中位数:2.0 上四分位数:2.0 缺失值个数:0\n",
      "p_score列\n",
      "最大值:25 最小值:0 平均值:2.286257629435337 下四分位数:0.0 中位数:1.0 上四分位数:4.0 缺失值个数:0\n",
      "pitcher_id列\n",
      "最大值:673633 最小值:112526 平均值:526829.7291356301 下四分位数:462136.0 中位数:534910.0 上四分位数:592836.0 缺失值个数:0\n"
     ]
    }
   ],
   "source": [
    "for x in ['batter_id', 'g_id', 'inning', 'o', 'p_score', 'pitcher_id']:\n",
    "    print('%s列' % x)\n",
    "    print('最大值:%s' % f[x].max(), '最小值:%s' % f[x].min(), '平均值:%s' % f[x].mean(),\n",
    "          '下四分位数:%s' % f[x].quantile(0.25), '中位数:%s' % f[x].quantile(0.5), '上四分位数:%s' % f[x].quantile(0.75), '缺失值个数:%s' % f[x].isnull().sum())"
   ]
  },
  {
   "cell_type": "markdown",
   "metadata": {},
   "source": [
    "### 2.2 数值属性列可视化"
   ]
  },
  {
   "cell_type": "markdown",
   "metadata": {},
   "source": [
    "**2.2.1 `batter_id`可视化**\n",
    "\n",
    "直方图如下图所示："
   ]
  },
  {
   "cell_type": "code",
   "execution_count": 12,
   "metadata": {},
   "outputs": [
    {
     "data": {
      "image/png": "[encoded data removed]",
      "text/plain": [
       "<Figure size 432x288 with 1 Axes>"
      ]
     },
     "metadata": {
      "needs_background": "light"
     },
     "output_type": "display_data"
    }
   ],
   "source": [
    "df = f.batter_id.sort_values(ascending=False)\n",
    "binsVal = np.arange(100000, 600000, 10000)\n",
    "plt.hist(df, bins=binsVal)\n",
    "plt.xlabel('batter_id')\n",
    "plt.ylabel('times')\n",
    "plt.show()"
   ]
  },
  {
   "cell_type": "markdown",
   "metadata": {},
   "source": [
    "`batter_id`的qq图如下图所示，："
   ]
  },
  {
   "cell_type": "code",
   "execution_count": 13,
   "metadata": {},
   "outputs": [
    {
     "data": {
      "text/plain": [
       "[<matplotlib.lines.Line2D at 0x11c5f40f0>]"
      ]
     },
     "execution_count": 13,
     "metadata": {},
     "output_type": "execute_result"
    },
    {
     "data": {
      "image/png": "[encoded data removed]",
      "text/plain": [
       "<Figure size 432x288 with 1 Axes>"
      ]
     },
     "metadata": {
      "needs_background": "light"
     },
     "output_type": "display_data"
    }
   ],
   "source": [
    "batter_id = f['batter_id']\n",
    "sorted_ = np.sort(batter_id)\n",
    "yvals = np.arange(len(sorted_))/float(len(sorted_))\n",
    "plt.plot(sorted_, yvals)"
   ]
  },
  {
   "cell_type": "markdown",
   "metadata": {},
   "source": [
    "标准正太分布图如下所示(只在此处打印，此后不再重复)，显然`batter_id`不符合正太分布：\n"
   ]
  },
  {
   "cell_type": "code",
   "execution_count": 14,
   "metadata": {},
   "outputs": [
    {
     "data": {
      "text/plain": [
       "[<matplotlib.lines.Line2D at 0x11beacbe0>]"
      ]
     },
     "execution_count": 14,
     "metadata": {},
     "output_type": "execute_result"
    },
    {
     "data": {
      "image/png": "[encoded data removed]",
      "text/plain": [
       "<Figure size 432x288 with 1 Axes>"
      ]
     },
     "metadata": {
      "needs_background": "light"
     },
     "output_type": "display_data"
    }
   ],
   "source": [
    "from scipy import stats\n",
    "x = np.arange(-5, 5, 0.1)\n",
    "y = stats.norm.cdf(x, 0, 1)\n",
    "plt.plot(x, y)"
   ]
  },
  {
   "cell_type": "markdown",
   "metadata": {},
   "source": [
    "`batter_id`的盒图如图所示, 有低于下限的离群点："
   ]
  },
  {
   "cell_type": "code",
   "execution_count": 16,
   "metadata": {},
   "outputs": [
    {
     "data": {
      "image/png": "[encoded data removed]",
      "text/plain": [
       "<Figure size 432x288 with 1 Axes>"
      ]
     },
     "metadata": {
      "needs_background": "light"
     },
     "output_type": "display_data"
    }
   ],
   "source": [
    "fig, ax = plt.subplots()\n",
    "ax.boxplot(f['batter_id'])\n",
    "plt.show()"
   ]
  },
  {
   "cell_type": "markdown",
   "metadata": {},
   "source": [
    "**2.2.2 `g_id`可视化**\n",
    "\n",
    "观察`g_id`推测其与年份有关系，故选取较大的间距\n",
    "\n",
    "直方图如下图所示："
   ]
  },
  {
   "cell_type": "code",
   "execution_count": 17,
   "metadata": {},
   "outputs": [
    {
     "data": {
      "image/png": "[encoded data removed]",
      "text/plain": [
       "<Figure size 432x288 with 1 Axes>"
      ]
     },
     "metadata": {
      "needs_background": "light"
     },
     "output_type": "display_data"
    }
   ],
   "source": [
    "df = f.g_id.sort_values(ascending=False)\n",
    "binsVal = np.arange(201500000, 201900000, 50000)\n",
    "plt.hist(df, bins=binsVal)\n",
    "plt.xlabel('batter_id')\n",
    "plt.ylabel('times')\n",
    "plt.show()"
   ]
  },
  {
   "cell_type": "markdown",
   "metadata": {},
   "source": [
    "qq图如下所示，显然不满足正太分布"
   ]
  },
  {
   "cell_type": "code",
   "execution_count": 18,
   "metadata": {},
   "outputs": [
    {
     "data": {
      "text/plain": [
       "[<matplotlib.lines.Line2D at 0x121e0f2e8>]"
      ]
     },
     "execution_count": 18,
     "metadata": {},
     "output_type": "execute_result"
    },
    {
     "data": {
      "image/png": "[encoded data removed]",
      "text/plain": [
       "<Figure size 432x288 with 1 Axes>"
      ]
     },
     "metadata": {
      "needs_background": "light"
     },
     "output_type": "display_data"
    }
   ],
   "source": [
    "g_id = f['g_id']\n",
    "sorted_ = np.sort(g_id)\n",
    "yvals = np.arange(len(sorted_))/float(len(sorted_))\n",
    "plt.plot(sorted_, yvals)"
   ]
  },
  {
   "cell_type": "markdown",
   "metadata": {},
   "source": [
    "盒图如下图所示，无离群点："
   ]
  },
  {
   "cell_type": "code",
   "execution_count": 19,
   "metadata": {},
   "outputs": [
    {
     "data": {
      "image/png": "[encoded data removed]",
      "text/plain": [
       "<Figure size 432x288 with 1 Axes>"
      ]
     },
     "metadata": {
      "needs_background": "light"
     },
     "output_type": "display_data"
    }
   ],
   "source": [
    "fig, ax = plt.subplots()\n",
    "ax.boxplot(f['g_id'])\n",
    "plt.show()"
   ]
  },
  {
   "cell_type": "markdown",
   "metadata": {},
   "source": [
    "**2.2.3 `o`可视化**\n",
    "\n",
    "观察可知，`o` 取值为 `[0, 1, 2,3]`\n",
    "\n",
    "直方图如下图所示：\n"
   ]
  },
  {
   "cell_type": "code",
   "execution_count": 20,
   "metadata": {},
   "outputs": [
    {
     "data": {
      "image/png": "[encoded data removed]",
      "text/plain": [
       "<Figure size 432x288 with 1 Axes>"
      ]
     },
     "metadata": {
      "needs_background": "light"
     },
     "output_type": "display_data"
    }
   ],
   "source": [
    "df = f.o.sort_values(ascending=False)\n",
    "binsVal = np.arange(0, 4, 0.1)\n",
    "plt.hist(df, bins=binsVal)\n",
    "plt.xlabel('o')\n",
    "plt.ylabel('times')\n",
    "plt.show()"
   ]
  },
  {
   "cell_type": "markdown",
   "metadata": {},
   "source": [
    "qq图如下所示，显然不满足正太分布"
   ]
  },
  {
   "cell_type": "code",
   "execution_count": 21,
   "metadata": {},
   "outputs": [
    {
     "data": {
      "text/plain": [
       "[<matplotlib.lines.Line2D at 0x1220fa9e8>]"
      ]
     },
     "execution_count": 21,
     "metadata": {},
     "output_type": "execute_result"
    },
    {
     "data": {
      "image/png": "[encoded data removed]",
      "text/plain": [
       "<Figure size 432x288 with 1 Axes>"
      ]
     },
     "metadata": {
      "needs_background": "light"
     },
     "output_type": "display_data"
    }
   ],
   "source": [
    "o = f['o']\n",
    "sorted_ = np.sort(o)\n",
    "yvals = np.arange(len(sorted_))/float(len(sorted_))\n",
    "plt.plot(sorted_, yvals)"
   ]
  },
  {
   "cell_type": "markdown",
   "metadata": {},
   "source": [
    "盒图如下所示，无离群点"
   ]
  },
  {
   "cell_type": "code",
   "execution_count": 22,
   "metadata": {},
   "outputs": [
    {
     "data": {
      "image/png": "[encoded data removed]",
      "text/plain": [
       "<Figure size 432x288 with 1 Axes>"
      ]
     },
     "metadata": {
      "needs_background": "light"
     },
     "output_type": "display_data"
    }
   ],
   "source": [
    "fig, ax = plt.subplots()\n",
    "ax.boxplot(f['o'])\n",
    "plt.show()"
   ]
  },
  {
   "cell_type": "markdown",
   "metadata": {},
   "source": [
    "**2.2.4. `p_score`可视化**\n",
    "\n",
    "直方图如下图所示："
   ]
  },
  {
   "cell_type": "code",
   "execution_count": 23,
   "metadata": {},
   "outputs": [
    {
     "data": {
      "image/png": "[encoded data removed]",
      "text/plain": [
       "<Figure size 432x288 with 1 Axes>"
      ]
     },
     "metadata": {
      "needs_background": "light"
     },
     "output_type": "display_data"
    }
   ],
   "source": [
    "df = f.p_score.sort_values(ascending=False)\n",
    "binsVal = np.arange(0, 30, 0.5)\n",
    "plt.hist(df, bins=binsVal)\n",
    "plt.xlabel('p_score')\n",
    "plt.ylabel('times')\n",
    "plt.show()"
   ]
  },
  {
   "cell_type": "markdown",
   "metadata": {},
   "source": [
    "qq图如下图所示，显然不满足正太分布：\n"
   ]
  },
  {
   "cell_type": "code",
   "execution_count": 24,
   "metadata": {},
   "outputs": [
    {
     "data": {
      "text/plain": [
       "[<matplotlib.lines.Line2D at 0x1a2e7d0908>]"
      ]
     },
     "execution_count": 24,
     "metadata": {},
     "output_type": "execute_result"
    },
    {
     "data": {
      "image/png": "[encoded data removed]",
      "text/plain": [
       "<Figure size 432x288 with 1 Axes>"
      ]
     },
     "metadata": {
      "needs_background": "light"
     },
     "output_type": "display_data"
    }
   ],
   "source": [
    "p_score = f['p_score']\n",
    "sorted_ = np.sort(p_score)\n",
    "yvals = np.arange(len(sorted_))/float(len(sorted_))\n",
    "plt.plot(sorted_, yvals)"
   ]
  },
  {
   "cell_type": "markdown",
   "metadata": {},
   "source": [
    "盒图如下图所示，有高于上线的离群点："
   ]
  },
  {
   "cell_type": "code",
   "execution_count": 25,
   "metadata": {},
   "outputs": [
    {
     "data": {
      "image/png": "[encoded data removed]",
      "text/plain": [
       "<Figure size 432x288 with 1 Axes>"
      ]
     },
     "metadata": {
      "needs_background": "light"
     },
     "output_type": "display_data"
    }
   ],
   "source": [
    "fig, ax = plt.subplots()\n",
    "ax.boxplot(f['p_score'])\n",
    "plt.show()"
   ]
  },
  {
   "cell_type": "markdown",
   "metadata": {},
   "source": [
    "**2.2.5 `pitcher_id`可视化**\n",
    "\n",
    "直方图如下图所示："
   ]
  },
  {
   "cell_type": "code",
   "execution_count": 9,
   "metadata": {},
   "outputs": [
    {
     "data": {
      "image/png": "[encoded data removed]",
      "text/plain": [
       "<Figure size 432x288 with 1 Axes>"
      ]
     },
     "metadata": {
      "needs_background": "light"
     },
     "output_type": "display_data"
    }
   ],
   "source": [
    "df = f.pitcher_id.sort_values(ascending=False)\n",
    "binsVal = np.arange(110000, 680000, 10000)\n",
    "plt.hist(df, bins=binsVal)\n",
    "plt.xlabel('pitcher_id')\n",
    "plt.ylabel('times')\n",
    "plt.show()"
   ]
  },
  {
   "cell_type": "markdown",
   "metadata": {},
   "source": [
    "qq图如下图所示,不满足正太分布："
   ]
  },
  {
   "cell_type": "code",
   "execution_count": 27,
   "metadata": {},
   "outputs": [
    {
     "data": {
      "text/plain": [
       "[<matplotlib.lines.Line2D at 0x121f350b8>]"
      ]
     },
     "execution_count": 27,
     "metadata": {},
     "output_type": "execute_result"
    },
    {
     "data": {
      "image/png": "[encoded data removed]",
      "text/plain": [
       "<Figure size 432x288 with 1 Axes>"
      ]
     },
     "metadata": {
      "needs_background": "light"
     },
     "output_type": "display_data"
    }
   ],
   "source": [
    "pitcher_id = f['pitcher_id']\n",
    "sorted_ = np.sort(pitcher_id)\n",
    "yvals = np.arange(len(sorted_))/float(len(sorted_))\n",
    "plt.plot(sorted_, yvals)"
   ]
  },
  {
   "cell_type": "markdown",
   "metadata": {},
   "source": [
    "盒图如下所示, 有低于下限的离群点："
   ]
  },
  {
   "cell_type": "code",
   "execution_count": 28,
   "metadata": {},
   "outputs": [
    {
     "data": {
      "image/png": "[encoded data removed]",
      "text/plain": [
       "<Figure size 432x288 with 1 Axes>"
      ]
     },
     "metadata": {
      "needs_background": "light"
     },
     "output_type": "display_data"
    }
   ],
   "source": [
    "fig, ax = plt.subplots()\n",
    "ax.boxplot(f['pitcher_id'])\n",
    "plt.show()"
   ]
  },
  {
   "cell_type": "markdown",
   "metadata": {},
   "source": [
    "## 3.缺失值处理 \n",
    "\n",
    "查看各列有多少缺失值，结果显示各列均无缺失值"
   ]
  },
  {
   "cell_type": "code",
   "execution_count": 32,
   "metadata": {},
   "outputs": [
    {
     "name": "stdout",
     "output_type": "stream",
     "text": [
      "ab_id有0个缺失值\n",
      "batter_id有0个缺失值\n",
      "event有0个缺失值\n",
      "g_id有0个缺失值\n",
      "inning有0个缺失值\n",
      "o有0个缺失值\n",
      "p_score有0个缺失值\n",
      "p_throws有0个缺失值\n",
      "pitcher_id有0个缺失值\n",
      "stand有0个缺失值\n",
      "top有0个缺失值\n"
     ]
    }
   ],
   "source": [
    "for x in f.columns:\n",
    "    print(\"%s有%s个缺失值\" % (x, f[x].isnull().sum()))"
   ]
  }
 ],
 "metadata": {
  "celltoolbar": "附件",
  "kernelspec": {
   "display_name": "Python 3",
   "language": "python",
   "name": "python3"
  },
  "language_info": {
   "codemirror_mode": {
    "name": "ipython",
    "version": 3
   },
   "file_extension": ".py",
   "mimetype": "text/x-python",
   "name": "python",
   "nbconvert_exporter": "python",
   "pygments_lexer": "ipython3",
   "version": "3.7.1"
  }
 },
 "nbformat": 4,
 "nbformat_minor": 2
}
