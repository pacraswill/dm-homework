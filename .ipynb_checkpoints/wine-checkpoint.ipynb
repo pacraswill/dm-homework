{
 "cells": [
  {
   "cell_type": "code",
   "execution_count": 2,
   "metadata": {},
   "outputs": [],
   "source": [
    "#coding=utf-8\n",
    "import matplotlib.pyplot as plt\n",
    "import pandas as pd\n",
    "import numpy as np"
   ]
  },
  {
   "cell_type": "code",
   "execution_count": 3,
   "metadata": {},
   "outputs": [
    {
     "name": "stdout",
     "output_type": "stream",
     "text": [
      "Index(['Unnamed: 0', 'country', 'description', 'designation', 'points',\n",
      "       'price', 'province', 'region_1', 'region_2', 'taster_name',\n",
      "       'taster_twitter_handle', 'title', 'variety', 'winery'],\n",
      "      dtype='object')\n"
     ]
    }
   ],
   "source": [
    "f = pd.read_csv('../winemag-data-130k-v2.csv')\n",
    "print(f.columns)"
   ]
  },
  {
   "cell_type": "markdown",
   "metadata": {},
   "source": [
    "## 1.标称属性列\n",
    "\n",
    "观察数据可知标称属性列有：`country`,`description`,`designation`,`province`,`region_1`,`region_2`,`taster_name`,`taster_twitter_handle`,`title`,`variety`, `winery`，打印其每列每一可能取值的频数"
   ]
  },
  {
   "cell_type": "code",
   "execution_count": 11,
   "metadata": {},
   "outputs": [
    {
     "name": "stdout",
     "output_type": "stream",
     "text": [
      "country:\n",
      "US                        54504\n",
      "France                    22093\n",
      "Italy                     19540\n",
      "Spain                      6645\n",
      "Portugal                   5691\n",
      "Chile                      4472\n",
      "Argentina                  3800\n",
      "Austria                    3345\n",
      "Australia                  2329\n",
      "Germany                    2165\n",
      "New Zealand                1419\n",
      "South Africa               1401\n",
      "Israel                      505\n",
      "Greece                      466\n",
      "Canada                      257\n",
      "Hungary                     146\n",
      "Bulgaria                    141\n",
      "Romania                     120\n",
      "Uruguay                     109\n",
      "Turkey                       90\n",
      "Slovenia                     87\n",
      "Georgia                      86\n",
      "England                      74\n",
      "Croatia                      73\n",
      "Mexico                       70\n",
      "Moldova                      59\n",
      "Brazil                       52\n",
      "Lebanon                      35\n",
      "Morocco                      28\n",
      "Peru                         16\n",
      "Ukraine                      14\n",
      "Serbia                       12\n",
      "Czech Republic               12\n",
      "Macedonia                    12\n",
      "Cyprus                       11\n",
      "India                         9\n",
      "Switzerland                   7\n",
      "Luxembourg                    6\n",
      "Bosnia and Herzegovina        2\n",
      "Armenia                       2\n",
      "Slovakia                      1\n",
      "China                         1\n",
      "Egypt                         1\n",
      "Name: country, dtype: int64\n",
      "\n",
      "description:\n",
      "Stalky aromas suggest hay and green herbs, with raspberry in the backdrop. It's hot and short in terms of mouthfeel, with herbal flavors leading the way and berry fruit running behind. Dry red fruit and herbal notes dominate the finish.                                                                                                                                                                3\n",
      "Gravenstein apple, honeysuckle and jasmine aromas show on the relatively boisterous nose of this bottling from a large vineyard on Highway 46 east of Paso Robles. There is compellingly grippy texture to the sip, with ripe flavors of pear and honeydew melon. A salty acidity takes it to the next level.                                                                                               3\n",
      "Ripe plum, game, truffle, leather and menthol are some of the aromas you'll find on this earthy wine. The tightly wound palate offers dried black cherry, chopped sage, mint and roasted coffee bean alongside raspy tannins that leave a mouth-drying finish.                                                                                                                                              3\n",
      "This zesty red has pretty aromas that suggest small red berry, blue flower and a whiff of moist soil. The vibrant palate offers sour cherry, pomegranate and a hint of anise alongside zesty acidity and refined tannins.                                                                                                                                                                                   3\n",
      "Cigar box, café au lait, and dried tobacco aromas are followed by coffee and cherry flavors, with barrel spices lingering on the finish. The wood gets a bit out front but it still delivers enjoyment.                                                                                                                                                                                                     3\n",
      "Seductively tart in lemon pith, cranberry and pomegranate, this refreshing, light-bodied quaff is infinitely enjoyable, both on its own or at the table. It continues to expand on the palate into an increasing array of fresh flavors, finishing in cherry and orange.                                                                                                                                    3\n",
      "Shocks of ripe rich yellow peach and pineapple revitalize the palate of this animated off-dry Riesling. Simultaneously bracing and sun-drenched, it's a straightforward yet delectably juicy treat. Enjoy now while young.                                                                                                                                                                                  2\n",
      "This is a bright and perky red wine with well-defined layers of ripe fruit, spice and smoky oak. Made with the native Raboso grape, the wine shows impressive sophistication and detail. Pair with lamb or roast pork.                                                                                                                                                                                      2\n",
      "This is a rich finely structured wine from Sogrape's Alentejo estate which is located close to the best place in Europe to stargaze. Powered with tannins as well as black fruits, this blend of Syrah, Alicante Bouschet and Touriga Nacional is dense and very ageworthy. Drink starting from 2018.                                                                                                       2\n",
      "This wine has a nose of black fruits, mocha and toffee, and on the palate, warming spices, tart cherry and a touch of sweetness. The flavors aren't overly complex, but the wine is appealing, and the finish lingering.                                                                                                                                                                                    2\n",
      "The nose is quite shy but eventually reveals whiffs of scorched soil, leather and a balsamic note. The lean straightforward palate offers dried wild cherry and a hint of dark spice alongside grainy, rather fleeting tannins that leave an astringent finish.                                                                                                                                             2\n",
      "Red berry, Mediterranean herb and a balsamic note of eucalyptus lead the nose on this polished red. The poised, balanced palate offers wild cherry, cranberry and a touch of exotic spice while smooth tannins and bright acidity provide a glossy framework.                                                                                                                                               2\n",
      "Gritty tomatoey aromas suggest rustic but underripe fruit. On the palate, this delivers a mix of freshness combined with a medium-full body. A mix of herbal berries and wood-based spice notes finish grabby and warm.                                                                                                                                                                                     2\n",
      "Charred soil, espresso, used leather and game aromas carry over to the lean, firm palate, joined by dried black cherry and licorice flavors. The wine finishes abruptly, steeped in raspy tannins.                                                                                                                                                                                                          2\n",
      "Winemaker Trey Fletcher is creating texturally tantalizing wines that are exciting to sip now but built to last for years in the cellar. This shows lemon blossom, lemon skin, almond and macadamia scents, with a chalky minerality that's evident even on the nose. Racy, laser-focused acidity frames the palate, where lime, grapefruit and apple flavors unfold. Drink now through 2024.               2\n",
      "Matured in used French barriques, this nevertheless shows touches of toast and cedar alongside tart, fruit notes of cranberry and raspberry. It's full bodied and richly tannic, with crisp acids that accentuate the tannins on the finish. Drink 2020–2030.                                                                                                                                               2\n",
      "A blend of local grapes (Zierfandler and Rotgipfler) this is impressive. Rich, perfumed, its fragrant fruits a medley of mulberry, pear and spiced apple. The acidity cuts right through, giving a wine that is both very ripe, balanced and finely textured. Screwcap.                                                                                                                                     2\n",
      "Pure minerals, peach and melon aromas come with a hint of leesy dust. This wine is elegant, chiseled and minerally on the palate. Flavors of dusty apple and citrus end long and stony, with class. Laxas is a top-flight Albariño producer and this vintage is one of its best. Drink now.                                                                                                                 2\n",
      "This fresh, fragrant wine is buoyed by citrus acidity and green apples. It's all fruit—light and bright—finishing with a tangy lemon-zest character. Screwcap.                                                                                                                                                                                                                                              2\n",
      "This is a rich smooth wine, full of delicious citrus and apple-fruit flavors. It is ripe, still with signs of wood aging that add a juicy character to the wine. It is developing well and should be ready to drink from 2018.                                                                                                                                                                              2\n",
      "A compelling mix, with bright, vivacious fruit flavors running from apple to pear, peach to papaya. The influence of barrels is felt more than tasted, but it does add a whisper of toast to the finish. Lively and fresh, this is a great wine for richer seafood.                                                                                                                                         2\n",
      "This is a nutty wine with flavors of hazelnuts and a mature character. The fruit has developed a honey flavor, keeping the acidity and an attractive spicy aftertaste. This ripe wine is ready to drink.                                                                                                                                                                                                    2\n",
      "This opens with characteristic aromas of wild berry, wet earth, white truffle and roasted coffee bean. It feels rich and concentrated in the mouth, but never heavy or sticky.                                                                                                                                                                                                                              2\n",
      "Concentrated cherry and plum aromas meet with iron, cinnamon and gingersnap on the nose of this single-vineyard wine. The flavors surpass the aromas in succulence—star anise, nutmeg and bay leaf seemingly wrapped in buttered pastry.                                                                                                                                                                    2\n",
      "Made with 85% Merlot blended with varying amounts of Petit Verdot, Sangiovese and Cabernet Sauvignon, this opens with aromas of truffle, underbrush, baked plum and dark cooking spice. The palate delivers licorice, roasted coffee bean and blueberry extract alongside astringent tannins that dry out the palate. While the tannins are still aggressive, the fruit richness is starting to dry out.    2\n",
      "Early tobacco and mint aromas quickly yield to mossy black fruit, and in the mouth it's fresh and zesty, with mild green-pepper infused plum and cassis flavors. Quite crisp and lean, with herbal influences showing up at all points. Classic Navarran red wine.                                                                                                                                          2\n",
      "This rosé gets its pretty eye-of-the-partridge color from having undergone cold soaking. Dry, soft and subtle, it shows peach, vanilla and spice flavors. Great with cioppino or grilled salmon.                                                                                                                                                                                                            2\n",
      "A tiny-production Pinot by a new producer, it makes a stunning debut. Owners James Hahn and Mila Chanamé are childhood friends with longtime Anderson Valley vineyard manager Norman Kobler and the shared roots have clearly put them in sync. The wine is perfumey in lilac and violet with a lightly textured and seductive mouthfeel that's exotic in just-ripe cherry and raspberry.                   2\n",
      "Slightly clipped and hard on the bouquet, which is narrow and settles on berry fruit. Feels chunky and bottom-weighted, with dark flavors of black fruits, plum and boysenberry. Becomes more stylish with airing, but it's always fairly hard and compact in character.                                                                                                                                    2\n",
      "The Greco Bianco grape (a native variety of Calabria in southern Italy) offers compelling aromas of pear, Golden Delicious apple and stone fruit. Librandi does a great job with this wine that shows density and creamy spice on the close. Pair it with white meat or fish.                                                                                                                               2\n",
      "                                                                                                                                                                                                                                                                                                                                                                                                           ..\n",
      "In the style of a Côtes de Gascogne white blend, this is a crisp, herbal and citrusy wine. It has considerable acidity along with pink grapefruit and lime flavors. Drink this light, bright wine now.                                                                                                                                                                                                      1\n",
      "Clean-cut zesty freshness pervades nose and palate with lively, ripe and toothsome citrus zest: mandarin and lemon dominate. The palate is sleek and slender with focus and verve. Wonderfully bracing.                                                                                                                                                                                                     1\n",
      "Reduced blueberry sauce hovers around a spiced cherry core. A rich palate of tangy blueberry and blackberry feels thick, yet there's enough acidic kick to keep it in check. The grippy tannins give ample support.                                                                                                                                                                                         1\n",
      "With mild red fruit, baked plum accents and a lackluster structure, this wine, blended with 10% Merlot, is big and dense.                                                                                                                                                                                                                                                                                   1\n",
      "This has dry, edgy tannins that make the palate feel a bit rough. It has rich, forward flavors of blackberries and oak.                                                                                                                                                                                                                                                                                     1\n",
      "From Montemaggiore Vineyard on the western hills of the appellation, and containing 5% Viognier, this is a well-made wine, nicely rustic in a dirty, rowdy mix of black pepper and earth. Dense, thick layers of cocoa play with floral notes of lavender and rose, finishing softly. This will age well through 2023.                                                                                      1\n",
      "Thanks to wines like this, expect a bright future for this appellation, which is just south of the Santa Lucia Highlands. Aromas of ripe plums, brown spices, turned earth and black slate lead into a silky palate, where red fruits are cut with an emergent, cinnamon-y spice and slightly leathery tannic grip.                                                                                         1\n",
      "Reasonably sweet (25 g/l residual sugar) but not overly so, this soft, easy-to-drink wine features melon and citrus notes. It's a light style, pretty and attractive at a good price.                                                                                                                                                                                                                       1\n",
      "An impressively powerful wine that balances the blackest of juicy fruit with dark, dusty and dense tannins. The right amount of wood aging and acidity are in the mix. Harmonious while still concentrated.                                                                                                                                                                                                 1\n",
      "Impresses for the body and depth that lifts it into sheer deliciousness. A powerful wine, it's stuffed with pure flavors of black cherries, currants, beef jerky and spicy mu shu plum sauce, all wrapped into thick but finely ground tannins, and brightened with crisp coastal acidity. Beautiful now, and should develop over the next 6 years.                                                         1\n",
      "This Pinot takes a few minutes to open up, yet when it does it smells like dusting polish and Dr. Pepper. The palate is more subtle with a good lick of acidity and chewy tannins finishing on dark cherry fruit. It's not the most typical example of this region or grape variety, but it has its charms nonetheless.                                                                                     1\n",
      "Squeezed boysenberry, smoked beef, thyme, lavender and even rosemary show on the nose of this fresh and smoky bottling from a lesser-known appellation. The savory qualities invade the palate, where dried herbs, soy and smoked meat hang on a backbone of dense berry fruit and slightly chunky tannins, finishing with crushed mint.                                                                    1\n",
      "This Syrah shows the massively extracted flavors that mark Constant's Napa Valley Cabernets. Such an approach works for Cabernet, but on this Syrah, it seems clumsy. It's extraordinarily powerful in blackberry jam, milk chocolate and spice flavors, but it's a little heavy.                                                                                                                           1\n",
      "Deep and delicious with inviting layers of raspberry and berry cobbler, Big John is a brambly, structured Zin, with bright zaps of black pepper and clove, plus a long, satisfying finish. This is perhaps the best Zin in all of Calaveras County right now.                                                                                                                                               1\n",
      "White-fruit aromas are generic up front and a bit stalky if examined more closely. The palate feels good but typical, while flavors of peach and apricot are chunky and turn a touch bitter on the finish. Drink now.                                                                                                                                                                                       1\n",
      "Spring flower and yellow stone fruit aromas lift out of the glass. The round, juicy palate doles out creamy peach, nectarine zest, Bosc pear and a hint of hazelnut. Soft acidity brightens the creamy flavors.                                                                                                                                                                                             1\n",
      "Even and light, but with copious tart cherry aromas and flavors, this tasty red comes from rugged Extremedura, in southwestern Spain, near Portugal. Saddle leather accents add interest, and the tangy finish closes with balanced tannins that'll cut through food well. Drink now–2005. —M.M.                                                                                                            1\n",
      "A pure expression of Petit Verdot from sunny, southern Tuscany, Per Cecco features deeply etched aromas of chocolate, ripe cherry, espresso bean, leather, plum cake and savory spice. The tannins are firm and need a few more years to evolve and soften.                                                                                                                                                 1\n",
      "This is a slightly riper approach from the longtime producer, with browned butter, vanilla, honeyed pineapple and a hint of seared marshmallow on the nose. The palate shows ripe brown pears and caramelized apples that carry deep into the finish. It's a balanced take on this style, never over the top.                                                                                               1\n",
      "Inky dark and compressed, this is a concentrated expression of juicy black fruit and licorice. With sizable, powerful tannin, it needs time to decompress, a leathery texture requiring patience to soften. Cellar through 2020.                                                                                                                                                                            1\n",
      "Violets mingle with notes of dark char and almond on this perfumed, nuanced Cabernet Franc. On the palate, delicate sour-cherry flavor flavors are subdued by swathes of earth and spice. Brisk in acidity, it finishes with a mouthful of penetrating but finely textured tannins.                                                                                                                         1\n",
      "This appellation blend hits all the right Pinot points, with candied red cherry, strawberry and cinnamon spice. The palate blends cooked cranberry and sour cherry with anise and a touch of garrigue. A reliable sipper, especially for the price.                                                                                                                                                         1\n",
      "This wine balances fresh fruit, citrus and tropical fruit with a crisp minerality. The wine offers freshness as well as spiciness and a touch of curve. Pair with sautéed fish, salads.                                                                                                                                                                                                                     1\n",
      "This is black as night, concentrated and shows aromas of asphalt, lemon peel and blackberry. The palate is round and soft, with mellow tannins. The flavor profile is very ripe and focuses on prune and blackberry, while the finish is loamy in feel, with a licorice hint.                                                                                                                               1\n",
      "The nose of this dry, textured wine is full of the scent of ripe pear flesh and peel, while the palate adds zesty citrus and a warm core. Full of fruit and freshness, it finishes clean and zesty.                                                                                                                                                                                                         1\n",
      "With many characteristics of the granite-soil based Dão, this is a dense, mineral and dark fruited wine. It has blackberry and plum-skin fruits as well as a firm, tannic core. Even though it's tightly structured now, it is drinkable, but would benefit from another year's aging.                                                                                                                      1\n",
      "A rich Pouilly Fuissé, concentrating on ripe tropical fruits and a rounded structure. The wine has weight, richness and a good density. With all these complex characters, it's a wine that needs to age over at least three years.                                                                                                                                                                         1\n",
      "Showing lots more depth and focus than Husch's regular Pinot Noir, this wine comes from nearly 40-year-old grapes grown on the estate. It's charming, light and silky in the mouth, with brilliant acidity framing intense flavors of cherries and spices. Should age well for up to a decade.                                                                                                              1\n",
      "There is an unfortunately strong scent of burnt match to this wine, so much so that it can be tasted as well. Oversulfured though it may be, it's a delicious bottle, with ripe, round fruit, made in a big, balanced style and enhanced with generous new oak. Air it out!                                                                                                                                 1\n",
      "This wine has a dancing, delicate nature. Aromas of apricot and honey are followed by floral, apricot and honey flavors. Elegant and friendly with balanced sugar and acid.                                                                                                                                                                                                                                 1\n",
      "Name: description, Length: 119955, dtype: int64\n",
      "\n",
      "designation:\n",
      "Reserve                                   2009\n",
      "Estate                                    1322\n",
      "Reserva                                   1259\n",
      "Riserva                                    698\n",
      "Estate Grown                               621\n",
      "Brut                                       513\n",
      "Dry                                        413\n",
      "Barrel sample                              375\n",
      "Crianza                                    343\n",
      "Estate Bottled                             342\n",
      "Vieilles Vignes                            308\n",
      "Brut Rosé                                  276\n",
      "Gran Reserva                               261\n",
      "Barrel Sample                              252\n",
      "Tradition                                  238\n",
      "Old Vine                                   221\n",
      "Extra Dry                                  204\n",
      "Rosé of                                    172\n",
      "Rosé                                       166\n",
      "Réserve                                    153\n",
      "Single Vineyard                            131\n",
      "Vintage                                    128\n",
      "Estate Reserve                             125\n",
      "Bien Nacido Vineyard                       120\n",
      "Late Harvest                               112\n",
      "Classic                                    111\n",
      "Unoaked                                    110\n",
      "Barrel Select                              106\n",
      "Late Bottled Vintage                        99\n",
      "Blanc de Blancs Brut                        96\n",
      "                                          ... \n",
      "Glockner-Turner Ranch                        1\n",
      "Sangiacomo Green Acres Dijon Clone 809       1\n",
      "Domaine René Couly                           1\n",
      "Self Ranch                                   1\n",
      "Clássic                                      1\n",
      "Byron Vineyard Delta                         1\n",
      "Gobernador Oloroso Seco                      1\n",
      "Fly Over                                     1\n",
      "7 Deadly                                     1\n",
      "Rosado Soul                                  1\n",
      "Seigneurs de Monbazillac                     1\n",
      "Established 1885                             1\n",
      "CR                                           1\n",
      "Primo Bacio                                  1\n",
      "Quinta do Bom Retiro Vintage                 1\n",
      "Nonni                                        1\n",
      "Red Hen Ranch                                1\n",
      "La Pilar Reserva                             1\n",
      "Empreinte Rouge                              1\n",
      "Victorian                                    1\n",
      "Everyday                                     1\n",
      "Coastal Collection                           1\n",
      "Don Miguel                                   1\n",
      "Cigar Zin                                    1\n",
      "Florus                                       1\n",
      "Herb's Block Windrow Vineyards               1\n",
      "L&T;                                         1\n",
      "Meeresboden                                  1\n",
      "Schroeder Estate                             1\n",
      "Founder's Field Reserve                      1\n",
      "Name: designation, Length: 37979, dtype: int64\n",
      "\n",
      "province:\n",
      "California                   36247\n",
      "Washington                    8639\n",
      "Bordeaux                      5941\n",
      "Tuscany                       5897\n",
      "Oregon                        5373\n",
      "Burgundy                      3980\n",
      "Northern Spain                3851\n",
      "Piedmont                      3729\n",
      "Mendoza Province              3264\n",
      "Veneto                        2716\n",
      "New York                      2688\n",
      "Alsace                        2440\n",
      "Northeastern Italy            2138\n",
      "Loire Valley                  1856\n",
      "Sicily & Sardinia             1797\n",
      "Champagne                     1613\n",
      "Southwest France              1503\n",
      "South Australia               1349\n",
      "Southern Italy                1349\n",
      "Provence                      1346\n",
      "Douro                         1281\n",
      "Central Italy                 1233\n",
      "Catalonia                     1164\n",
      "Rhône Valley                  1081\n",
      "Beaujolais                    1044\n",
      "Mosel                         1039\n",
      "Alentejano                     937\n",
      "Colchagua Valley               830\n",
      "Marlborough                    798\n",
      "Virginia                       777\n",
      "                             ...  \n",
      "Monemvasia                       1\n",
      "Casablanca-Curicó Valley         1\n",
      "Ceres Plateau                    1\n",
      "Lemesos                          1\n",
      "Kentucky                         1\n",
      "Lutzville Valley                 1\n",
      "Vlootenburg                      1\n",
      "Ticino                           1\n",
      "Mavrodaphne de Cephalonie        1\n",
      "Viile Timis                      1\n",
      "Croatia                          1\n",
      "Beotia                           1\n",
      "Corinthia                        1\n",
      "Pocerina                         1\n",
      "Hrvatsko Primorje                1\n",
      "Pitsilia Mountains               1\n",
      "Table wine                       1\n",
      "Muscat of Patras                 1\n",
      "Middle and South Dalmatia        1\n",
      "Dolenjska                        1\n",
      "Alenteo                          1\n",
      "Egypt                            1\n",
      "Krk                              1\n",
      "Central Greece                   1\n",
      "China                            1\n",
      "Elazığ-Diyarbakir                1\n",
      "Slovenska Istra                  1\n",
      "Piekenierskloof                  1\n",
      "Markopoulo                       1\n",
      "Arcadia                          1\n",
      "Name: province, Length: 425, dtype: int64\n",
      "\n",
      "region_1:\n",
      "Napa Valley                                          4480\n",
      "Columbia Valley (WA)                                 4124\n",
      "Russian River Valley                                 3091\n",
      "California                                           2629\n",
      "Paso Robles                                          2350\n",
      "Willamette Valley                                    2301\n",
      "Mendoza                                              2301\n",
      "Alsace                                               2163\n",
      "Champagne                                            1613\n",
      "Barolo                                               1599\n",
      "Finger Lakes                                         1565\n",
      "Sonoma Coast                                         1474\n",
      "Brunello di Montalcino                               1470\n",
      "Rioja                                                1469\n",
      "Sonoma County                                        1246\n",
      "Toscana                                              1197\n",
      "Walla Walla Valley (WA)                              1066\n",
      "Chianti Classico                                     1062\n",
      "Santa Barbara County                                 1000\n",
      "Carneros                                              999\n",
      "Yakima Valley                                         997\n",
      "Sta. Rita Hills                                       975\n",
      "Dry Creek Valley                                      939\n",
      "Sicilia                                               925\n",
      "Côtes de Provence                                     859\n",
      "Santa Ynez Valley                                     812\n",
      "Santa Lucia Highlands                                 806\n",
      "Lodi                                                  803\n",
      "Barbaresco                                            794\n",
      "Alexander Valley                                      784\n",
      "                                                     ... \n",
      "California-Oregon                                       1\n",
      "Landes                                                  1\n",
      "Primitivo del Tarantino                                 1\n",
      "Côtes de Forez                                          1\n",
      "Colli del Limbara                                       1\n",
      "Valpolicella Valpantena Superiore                       1\n",
      "Moulis                                                  1\n",
      "Vin Pétillant                                           1\n",
      "Goulburn Valley                                         1\n",
      "Vino de la Tierra Contraviesa Alpujarra                 1\n",
      "Falanghina del Molise                                   1\n",
      "Nasco di Cagliari                                       1\n",
      "Montlouis-sur-Loire                                     1\n",
      "Saussignac                                              1\n",
      "Sonoma-Santa Barbara-Mendocino                          1\n",
      "Hawaii                                                  1\n",
      "Lamezia                                                 1\n",
      "Gutturnio Classico Superiore                            1\n",
      "Dolcetto di Monferrato                                  1\n",
      "Muscat de Saint-Jean de Minervois                       1\n",
      "Benaco Bresciano                                        1\n",
      "Côtes de Montravel                                      1\n",
      "Strevi                                                  1\n",
      "Mâcon-Mancey                                            1\n",
      "Monferrato Bianco                                       1\n",
      "Vino de la Tierra Ribera del Gállego-Cinco Villas       1\n",
      "Aglianico d'Irpinia                                     1\n",
      "Jujuy                                                   1\n",
      "Chignin-Bergeron                                        1\n",
      "Côtes du Roussillon Villages Caramany                   1\n",
      "Name: region_1, Length: 1229, dtype: int64\n",
      "\n",
      "region_2:\n",
      "Central Coast        11065\n",
      "Sonoma                9028\n",
      "Columbia Valley       8103\n",
      "Napa                  6814\n",
      "Willamette Valley     3423\n",
      "California Other      2663\n",
      "Finger Lakes          1777\n",
      "Sierra Foothills      1462\n",
      "Napa-Sonoma           1169\n",
      "Central Valley        1062\n",
      "Southern Oregon        917\n",
      "Oregon Other           727\n",
      "Long Island            680\n",
      "North Coast            584\n",
      "Washington Other       534\n",
      "South Coast            272\n",
      "New York Other         231\n",
      "Name: region_2, dtype: int64\n",
      "\n",
      "taster_name:\n"
     ]
    },
    {
     "name": "stdout",
     "output_type": "stream",
     "text": [
      "Roger Voss            25514\n",
      "Michael Schachner     15134\n",
      "Kerin O’Keefe         10776\n",
      "Virginie Boone         9537\n",
      "Paul Gregutt           9532\n",
      "Matt Kettmann          6332\n",
      "Joe Czerwinski         5147\n",
      "Sean P. Sullivan       4966\n",
      "Anna Lee C. Iijima     4415\n",
      "Jim Gordon             4177\n",
      "Anne Krebiehl MW       3685\n",
      "Lauren Buzzeo          1835\n",
      "Susan Kostrzewa        1085\n",
      "Mike DeSimone           514\n",
      "Jeff Jenssen            491\n",
      "Alexander Peartree      415\n",
      "Carrie Dykes            139\n",
      "Fiona Adams              27\n",
      "Christina Pickard         6\n",
      "Name: taster_name, dtype: int64\n",
      "\n",
      "taster_twitter_handle:\n",
      "@vossroger          25514\n",
      "@wineschach         15134\n",
      "@kerinokeefe        10776\n",
      "@vboone              9537\n",
      "@paulgwine           9532\n",
      "@mattkettmann        6332\n",
      "@JoeCz               5147\n",
      "@wawinereport        4966\n",
      "@gordone_cellars     4177\n",
      "@AnneInVino          3685\n",
      "@laurbuzz            1835\n",
      "@suskostrzewa        1085\n",
      "@worldwineguys       1005\n",
      "@bkfiona               27\n",
      "@winewchristina         6\n",
      "Name: taster_twitter_handle, dtype: int64\n",
      "\n",
      "title:\n",
      "Gloria Ferrer NV Sonoma Brut Sparkling (Sonoma County)                                   11\n",
      "Korbel NV Brut Sparkling (California)                                                     9\n",
      "Segura Viudas NV Extra Dry Sparkling (Cava)                                               8\n",
      "Gloria Ferrer NV Blanc de Noirs Sparkling (Carneros)                                      7\n",
      "Segura Viudas NV Aria Estate Extra Dry Sparkling (Cava)                                   7\n",
      "Ruinart NV Brut Rosé  (Champagne)                                                         7\n",
      "Korbel NV Sweet Rosé Sparkling (California)                                               6\n",
      "J Vineyards & Winery NV Brut Rosé Sparkling (Russian River Valley)                        6\n",
      "Bailly-Lapierre NV Brut  (Crémant de Bourgogne)                                           6\n",
      "Jacquart NV Brut Mosaïque  (Champagne)                                                    6\n",
      "Pierre Sparr NV Brut Réserve Sparkling (Crémant d'Alsace)                                 6\n",
      "Mumm Napa NV Brut Prestige Sparkling (Napa Valley)                                        6\n",
      "Boizel NV Brut Réserve  (Champagne)                                                       6\n",
      "Roederer Estate NV Brut Rosé Sparkling (Anderson Valley)                                  5\n",
      "J. Dumangin Fils NV Le Rosé Premier Cru Brut  (Champagne)                                 5\n",
      "Thiénot NV Brut  (Champagne)                                                              5\n",
      "Breathless NV Brut Sparkling (North Coast)                                                5\n",
      "Segura Viudas NV Reserva Heredad Sparkling (Cava)                                         5\n",
      "Pommery NV Brut Royal  (Champagne)                                                        5\n",
      "Freixenet NV Cordon Negro Extra Dry Sparkling (Cava)                                      5\n",
      "Freixenet NV Cordon Negro Brut Sparkling (Cava)                                           5\n",
      "Thiénot NV Brut Rosé  (Champagne)                                                         5\n",
      "Heidsieck & Co Monopole NV Blue Top Brut  (Champagne)                                     5\n",
      "Jean Laurent NV Blanc de Noirs Brut Pinot Noir (Champagne)                                5\n",
      "Korbel NV Blanc de Noirs Sparkling (California)                                           5\n",
      "Mumm Napa NV Cuvée M Sparkling (Napa Valley)                                              5\n",
      "Mailly Grand Cru NV Blanc de Noirs Brut Pinot Noir (Champagne)                            5\n",
      "Chandon NV Rosé Sparkling (California)                                                    5\n",
      "Mailly Grand Cru NV Délice Demi-Sec  (Champagne)                                          5\n",
      "G. H. Mumm NV Cordon Rouge Brut  (Champagne)                                              5\n",
      "                                                                                         ..\n",
      "Henri de Villamont 2007  Clos de Vougeot                                                  1\n",
      "Diwald 2015 Grossriedenthaler Löss Grüner Veltliner (Wagram)                              1\n",
      "Adega Cooperativa de Borba 2009 Premium Red (Alentejo)                                    1\n",
      "Valentin Bianchi 2008 Famiglia Bianchi Cabernet Sauvignon (Mendoza)                       1\n",
      "Monteviejo 2009 Lindaflor Red (Uco Valley)                                                1\n",
      "Salomon-Undhof 2013 Steinterrassen Riesling (Kremstal)                                    1\n",
      "Colli di Castelfranci 2012 Pendino  (Fiano di Avellino)                                   1\n",
      "Arnaldo Caprai 2006 Grecante Grechetto (Colli Martani)                                    1\n",
      "Hess 2009 Allomi Cabernet Sauvignon (Napa Valley)                                         1\n",
      "Bruno Giacosa 1996 Dino Nero Spumante  (Piedmont)                                         1\n",
      "Carpineto 2009 Farnito Cabernet Sauvignon (Toscana)                                       1\n",
      "La Cappuccina 2012 Fontego  (Soave)                                                       1\n",
      "Expression 38 2014 Gunsalus Vineyard Pinot Noir (Sonoma Coast)                            1\n",
      "Salcheto 2013  Rosso di Montepulciano                                                     1\n",
      "Domaine de Grange Neuve 2015 La Fleur Lily Sauvignon Blanc (Bergerac Sec)                 1\n",
      "Le Chiuse 2004 Riserva  (Brunello di Montalcino)                                          1\n",
      "Billsboro 2014 Leidenfrost Vineyards Pinot Noir (Finger Lakes)                            1\n",
      "J. Dumangin Fils NV Brut 17  (Champagne)                                                  1\n",
      "Cline 2012 Mourvèdre Rosé (Contra Costa County)                                           1\n",
      "Collovray et Terrier 2008 Domaine des Deux Roches Plénitude e Bonté  (Pouilly-Fuissé)     1\n",
      "Italo Cescon 2014 Pinot Grigio (Veneto)                                                   1\n",
      "Yellow Tail 2007 The Reserve Cabernet Sauvignon (South Eastern Australia)                 1\n",
      "DeMorgenzon 2014 Maestro White (Stellenbosch)                                             1\n",
      "Freixenet 2004 Brut Nature Sparkling (Cava)                                               1\n",
      "Quinta do Cruzeiro 2012 White (Vinho Verde)                                               1\n",
      "Foley 2006 Rancho Santa Rosa Pinot Noir (Sta. Rita Hills)                                 1\n",
      "Luna 2007 Cabernet Sauvignon (Napa Valley)                                                1\n",
      "J Vineyards & Winery NV Cuvée 20 Brut Sparkling (Russian River Valley)                    1\n",
      "Valcantara 2012 Old Vine Garnacha (Cariñena)                                              1\n",
      "McCay Cellars 2013 Lot 13 Vineyard Tempranillo (Lodi)                                     1\n",
      "Name: title, Length: 118840, dtype: int64\n",
      "\n",
      "variety:\n",
      "Pinot Noir                        13272\n",
      "Chardonnay                        11753\n",
      "Cabernet Sauvignon                 9472\n",
      "Red Blend                          8946\n",
      "Bordeaux-style Red Blend           6915\n",
      "Riesling                           5189\n",
      "Sauvignon Blanc                    4967\n",
      "Syrah                              4142\n",
      "Rosé                               3564\n",
      "Merlot                             3102\n",
      "Nebbiolo                           2804\n",
      "Zinfandel                          2714\n",
      "Sangiovese                         2707\n",
      "Malbec                             2652\n",
      "Portuguese Red                     2466\n",
      "White Blend                        2360\n",
      "Sparkling Blend                    2153\n",
      "Tempranillo                        1810\n",
      "Rhône-style Red Blend              1471\n",
      "Pinot Gris                         1455\n",
      "Champagne Blend                    1396\n",
      "Cabernet Franc                     1353\n",
      "Grüner Veltliner                   1345\n",
      "Portuguese White                   1159\n",
      "Bordeaux-style White Blend         1066\n",
      "Pinot Grigio                       1052\n",
      "Gamay                              1025\n",
      "Gewürztraminer                     1012\n",
      "Viognier                            996\n",
      "Shiraz                              836\n",
      "                                  ...  \n",
      "Chardonnay-Riesling                   1\n",
      "Pignolo                               1\n",
      "Albanello                             1\n",
      "Catalanesca                           1\n",
      "Terrantez                             1\n",
      "Piquepoul Blanc                       1\n",
      "Verdosilla                            1\n",
      "Malbec-Carménère                      1\n",
      "Tamianka                              1\n",
      "Vidadillo                             1\n",
      "Cabernet-Malbec                       1\n",
      "Roussanne-Grenache Blanc              1\n",
      "Merlot-Grenache                       1\n",
      "Ryzlink Rýnský                        1\n",
      "País                                  1\n",
      "Frankovka                             1\n",
      "Sauvignon Blanc-Assyrtiko             1\n",
      "Pinot Blanc-Viognier                  1\n",
      "Sauvignon Musqué                      1\n",
      "Sauvignon Blanc-Sauvignon Gris        1\n",
      "Petit Courbu                          1\n",
      "Tinto Velasco                         1\n",
      "Merlot-Shiraz                         1\n",
      "Favorita                              1\n",
      "Forcallà                              1\n",
      "Centesimino                           1\n",
      "Paralleda                             1\n",
      "Blauburgunder                         1\n",
      "Pinot Grigio-Sauvignon Blanc          1\n",
      "Ojaleshi                              1\n",
      "Name: variety, Length: 707, dtype: int64\n",
      "\n",
      "winery:\n",
      "Wines & Winemakers            222\n",
      "Testarossa                    218\n",
      "DFJ Vinhos                    215\n",
      "Williams Selyem               211\n",
      "Louis Latour                  199\n",
      "Georges Duboeuf               196\n",
      "Chateau Ste. Michelle         194\n",
      "Concha y Toro                 164\n",
      "Columbia Crest                159\n",
      "Kendall-Jackson               130\n",
      "Siduri                        126\n",
      "Gary Farrell                  125\n",
      "Lynmar                        118\n",
      "Albert Bichot                 117\n",
      "Montes                        117\n",
      "Trapiche                      113\n",
      "Jean-Luc and Paul Aegerter    113\n",
      "Undurraga                     113\n",
      "Casa Santos Lima              113\n",
      "Robert Mondavi                112\n",
      "Santa Ema                     112\n",
      "Chanson Père et Fils          109\n",
      "Fess Parker                   108\n",
      "V. Sattui                     107\n",
      "Iron Horse                    106\n",
      "Foxen                         105\n",
      "Louis Jadot                   104\n",
      "Chehalem                      102\n",
      "Maryhill                      102\n",
      "Feudi di San Gregorio         102\n",
      "                             ... \n",
      "Ribera de Ulver                 1\n",
      "Mad Hatter                      1\n",
      "Montage                         1\n",
      "Mas des Mas                     1\n",
      "Château Gairoird                1\n",
      "Château Rodin                   1\n",
      "Domaine du Vieux Vauvert        1\n",
      "Viamonte                        1\n",
      "Castello di Velona              1\n",
      "Vidussi                         1\n",
      "Koves-Newlan                    1\n",
      "Piro Piro Piccolo               1\n",
      "Solar de Libano                 1\n",
      "Familia Colombi                 1\n",
      "Passalacqua                     1\n",
      "Pianirossi                      1\n",
      "Adzic                           1\n",
      "Caminada                        1\n",
      "Dichotomy                       1\n",
      "Fondo del Barbera               1\n",
      "Nelwood Wines                   1\n",
      "Vista Alegre                    1\n",
      "Sassotondo                      1\n",
      "Cantina di Bertiolo             1\n",
      "Domaine du Touja                1\n",
      "Andrus                          1\n",
      "Nitida                          1\n",
      "Haka by Labyrinth               1\n",
      "Blindfold                       1\n",
      "Car Men Air                     1\n",
      "Name: winery, Length: 16757, dtype: int64\n",
      "\n"
     ]
    }
   ],
   "source": [
    "for x in ['country', 'description','designation', 'province', 'region_1', 'region_2', 'taster_name', 'taster_twitter_handle', 'title', 'variety', 'winery']:\n",
    "    print('%s:' % x)\n",
    "    print(f[x].value_counts())\n",
    "    print()\n"
   ]
  },
  {
   "cell_type": "markdown",
   "metadata": {},
   "source": [
    "## 2.数值属性列\n",
    "### 2.1 摘要\n",
    "数值属性列有 `points`,`price`, 打印出最大、最小、均值、中位数、四分位数及缺失值个数"
   ]
  },
  {
   "cell_type": "code",
   "execution_count": 13,
   "metadata": {},
   "outputs": [
    {
     "name": "stdout",
     "output_type": "stream",
     "text": [
      "points列\n",
      "最大值:100 最小值:80 平均值:88.44713820775404 下四分位数:86.0 中位数:88.0 上四分位数:91.0 缺失值个数:0\n",
      "price列\n",
      "最大值:3300.0 最小值:4.0 平均值:35.363389129985535 下四分位数:17.0 中位数:25.0 上四分位数:42.0 缺失值个数:8996\n"
     ]
    }
   ],
   "source": [
    "for x in ['points', 'price']:\n",
    "    print('%s列' % x)\n",
    "    print('最大值:%s' % f[x].max(), '最小值:%s' % f[x].min(), '平均值:%s' % f[x].mean(),\n",
    "          '下四分位数:%s' % f[x].quantile(0.25), '中位数:%s' % f[x].quantile(0.5), '上四分位数:%s' % f[x].quantile(0.75), '缺失值个数:%s' % f[x].isnull().sum())"
   ]
  },
  {
   "cell_type": "markdown",
   "metadata": {},
   "source": [
    "### 2.2 数值属性列可视化\n",
    "\n",
    "### 2.2.1 `points` 可视化"
   ]
  },
  {
   "cell_type": "markdown",
   "metadata": {},
   "source": [
    "`points` 直方图如下图所示："
   ]
  },
  {
   "cell_type": "code",
   "execution_count": 18,
   "metadata": {},
   "outputs": [
    {
     "data": {
      "image/png": "[encoded data removed]",
      "text/plain": [
       "<Figure size 432x288 with 1 Axes>"
      ]
     },
     "metadata": {
      "needs_background": "light"
     },
     "output_type": "display_data"
    }
   ],
   "source": [
    "df = f.points.sort_values(ascending=False)\n",
    "binsVal = np.arange(60, 120, 0.5)\n",
    "plt.hist(df, bins=binsVal)\n",
    "plt.xlabel('points')\n",
    "plt.ylabel('times')\n",
    "plt.show()"
   ]
  },
  {
   "cell_type": "markdown",
   "metadata": {},
   "source": [
    "qq图如下所示："
   ]
  },
  {
   "cell_type": "code",
   "execution_count": 19,
   "metadata": {},
   "outputs": [
    {
     "data": {
      "text/plain": [
       "[<matplotlib.lines.Line2D at 0x11bd85be0>]"
      ]
     },
     "execution_count": 19,
     "metadata": {},
     "output_type": "execute_result"
    },
    {
     "data": {
      "image/png": "[encoded data removed]",
      "text/plain": [
       "<Figure size 432x288 with 1 Axes>"
      ]
     },
     "metadata": {
      "needs_background": "light"
     },
     "output_type": "display_data"
    }
   ],
   "source": [
    "points = f['points']\n",
    "sorted_ = np.sort(points)\n",
    "yvals = np.arange(len(sorted_))/float(len(sorted_))\n",
    "plt.plot(sorted_, yvals)"
   ]
  },
  {
   "cell_type": "markdown",
   "metadata": {},
   "source": [
    "标准正太分布图如下所示(只在此处打印，此后不再重复)，`points`不符合正太分布：\n"
   ]
  },
  {
   "cell_type": "code",
   "execution_count": 21,
   "metadata": {},
   "outputs": [
    {
     "data": {
      "text/plain": [
       "[<matplotlib.lines.Line2D at 0x11d74d9e8>]"
      ]
     },
     "execution_count": 21,
     "metadata": {},
     "output_type": "execute_result"
    },
    {
     "data": {
      "image/png": "[encoded data removed]",
      "text/plain": [
       "<Figure size 432x288 with 1 Axes>"
      ]
     },
     "metadata": {
      "needs_background": "light"
     },
     "output_type": "display_data"
    }
   ],
   "source": [
    "from scipy import stats\n",
    "x = np.arange(-5, 5, 0.1)\n",
    "y = stats.norm.cdf(x, 0, 1)\n",
    "plt.plot(x, y)"
   ]
  },
  {
   "cell_type": "markdown",
   "metadata": {},
   "source": [
    "盒图如下图所示，有高于上线的离群点"
   ]
  },
  {
   "cell_type": "code",
   "execution_count": 37,
   "metadata": {},
   "outputs": [
    {
     "data": {
      "image/png": "[encoded data removed]",
      "text/plain": [
       "<Figure size 432x288 with 1 Axes>"
      ]
     },
     "metadata": {
      "needs_background": "light"
     },
     "output_type": "display_data"
    }
   ],
   "source": [
    "fig, ax = plt.subplots()\n",
    "ax.boxplot(f['points'])\n",
    "plt.show()"
   ]
  },
  {
   "cell_type": "markdown",
   "metadata": {},
   "source": [
    "### 2.2.2 price 可视化\n",
    "\n",
    "直方图如下图所示：\n"
   ]
  },
  {
   "cell_type": "code",
   "execution_count": 32,
   "metadata": {},
   "outputs": [
    {
     "data": {
      "image/png": "[encoded data removed]",
      "text/plain": [
       "<Figure size 432x288 with 1 Axes>"
      ]
     },
     "metadata": {
      "needs_background": "light"
     },
     "output_type": "display_data"
    }
   ],
   "source": [
    "df = f.price.sort_values(ascending=False)\n",
    "binsVal = np.arange(0, 3500, 50)\n",
    "plt.hist(df, bins=binsVal)\n",
    "plt.xlabel('price')\n",
    "plt.ylabel('times')\n",
    "plt.show()"
   ]
  },
  {
   "cell_type": "markdown",
   "metadata": {},
   "source": [
    "qq图如下图所示，不符合正太分布"
   ]
  },
  {
   "cell_type": "code",
   "execution_count": 33,
   "metadata": {},
   "outputs": [
    {
     "data": {
      "text/plain": [
       "[<matplotlib.lines.Line2D at 0x11e779400>]"
      ]
     },
     "execution_count": 33,
     "metadata": {},
     "output_type": "execute_result"
    },
    {
     "data": {
      "image/png": "[encoded data removed]",
      "text/plain": [
       "<Figure size 432x288 with 1 Axes>"
      ]
     },
     "metadata": {
      "needs_background": "light"
     },
     "output_type": "display_data"
    }
   ],
   "source": [
    "points = f['price']\n",
    "sorted_ = np.sort(points)\n",
    "yvals = np.arange(len(sorted_))/float(len(sorted_))\n",
    "plt.plot(sorted_, yvals)"
   ]
  },
  {
   "cell_type": "markdown",
   "metadata": {},
   "source": [
    "盒图如下图所示：由统计的 `price` 最大值为3300，最小值为4，平均值为35可知，会有大量异常值"
   ]
  },
  {
   "cell_type": "code",
   "execution_count": 40,
   "metadata": {},
   "outputs": [
    {
     "data": {
      "image/png": "[encoded data removed]",
      "text/plain": [
       "<Figure size 432x288 with 1 Axes>"
      ]
     },
     "metadata": {
      "needs_background": "light"
     },
     "output_type": "display_data"
    }
   ],
   "source": [
    "df = pd.DataFrame(f['price'])\n",
    "df.plot.box()\n",
    "plt.grid(linestyle=\"--\", alpha=0.3)\n",
    "plt.show()"
   ]
  },
  {
   "cell_type": "markdown",
   "metadata": {},
   "source": [
    "## 3 缺失值处理\n",
    "\n",
    "首先查看各列有多少缺失值"
   ]
  },
  {
   "cell_type": "code",
   "execution_count": 41,
   "metadata": {},
   "outputs": [
    {
     "name": "stdout",
     "output_type": "stream",
     "text": [
      "Unnamed: 0有0个缺失值\n",
      "country有63个缺失值\n",
      "description有0个缺失值\n",
      "designation有37465个缺失值\n",
      "points有0个缺失值\n",
      "price有8996个缺失值\n",
      "province有63个缺失值\n",
      "region_1有21247个缺失值\n",
      "region_2有79460个缺失值\n",
      "taster_name有26244个缺失值\n",
      "taster_twitter_handle有31213个缺失值\n",
      "title有0个缺失值\n",
      "variety有1个缺失值\n",
      "winery有0个缺失值\n"
     ]
    }
   ],
   "source": [
    "for x in f.columns:\n",
    "    print(\"%s有%s个缺失值\" % (x, f[x].isnull().sum()))"
   ]
  },
  {
   "cell_type": "markdown",
   "metadata": {},
   "source": [
    "该数据集旨在使用描述/评论中的单词推测酒的种类，其中缺失值出现的原因可能是不清楚该酒的信息。比如酒价格缺失，可能是酒已经停止售卖了，酒产地缺失可能是根本不知道酒产地在哪。"
   ]
  },
  {
   "cell_type": "markdown",
   "metadata": {},
   "source": [
    "### 3.1 删除缺失值,并对数值列可视化"
   ]
  },
  {
   "cell_type": "code",
   "execution_count": 43,
   "metadata": {},
   "outputs": [],
   "source": [
    "f = f.dropna(how='any')"
   ]
  },
  {
   "cell_type": "code",
   "execution_count": 44,
   "metadata": {
    "scrolled": true
   },
   "outputs": [
    {
     "data": {
      "image/png": "[encoded data removed]",
      "text/plain": [
       "<Figure size 432x288 with 1 Axes>"
      ]
     },
     "metadata": {
      "needs_background": "light"
     },
     "output_type": "display_data"
    }
   ],
   "source": [
    "df = f.points.sort_values(ascending=False)\n",
    "binsVal = np.arange(60, 120, 0.5)\n",
    "plt.hist(df, bins=binsVal)\n",
    "plt.xlabel('points')\n",
    "plt.ylabel('times')\n",
    "plt.show()"
   ]
  },
  {
   "cell_type": "code",
   "execution_count": 45,
   "metadata": {},
   "outputs": [
    {
     "data": {
      "text/plain": [
       "[<matplotlib.lines.Line2D at 0x11bf46630>]"
      ]
     },
     "execution_count": 45,
     "metadata": {},
     "output_type": "execute_result"
    },
    {
     "data": {
      "image/png": "[encoded data removed]",
      "text/plain": [
       "<Figure size 432x288 with 1 Axes>"
      ]
     },
     "metadata": {
      "needs_background": "light"
     },
     "output_type": "display_data"
    }
   ],
   "source": [
    "points = f['points']\n",
    "sorted_ = np.sort(points)\n",
    "yvals = np.arange(len(sorted_))/float(len(sorted_))\n",
    "plt.plot(sorted_, yvals)"
   ]
  },
  {
   "cell_type": "code",
   "execution_count": 46,
   "metadata": {},
   "outputs": [
    {
     "data": {
      "image/png": "[encoded data removed]",
      "text/plain": [
       "<Figure size 432x288 with 1 Axes>"
      ]
     },
     "metadata": {
      "needs_background": "light"
     },
     "output_type": "display_data"
    }
   ],
   "source": [
    "fig, ax = plt.subplots()\n",
    "ax.boxplot(f['points'])\n",
    "plt.show()"
   ]
  },
  {
   "cell_type": "markdown",
   "metadata": {},
   "source": [
    "### 对比发现， points删除后的qq图局部更陡，且其盒图中出现了低于下限的离群点"
   ]
  },
  {
   "cell_type": "code",
   "execution_count": 47,
   "metadata": {},
   "outputs": [
    {
     "data": {
      "image/png": "[encoded data removed]",
      "text/plain": [
       "<Figure size 432x288 with 1 Axes>"
      ]
     },
     "metadata": {
      "needs_background": "light"
     },
     "output_type": "display_data"
    }
   ],
   "source": [
    "df = f.price.sort_values(ascending=False)\n",
    "binsVal = np.arange(0, 3500, 50)\n",
    "plt.hist(df, bins=binsVal)\n",
    "plt.xlabel('price')\n",
    "plt.ylabel('times')\n",
    "plt.show()"
   ]
  },
  {
   "cell_type": "code",
   "execution_count": 48,
   "metadata": {},
   "outputs": [
    {
     "data": {
      "text/plain": [
       "[<matplotlib.lines.Line2D at 0x11e42fe48>]"
      ]
     },
     "execution_count": 48,
     "metadata": {},
     "output_type": "execute_result"
    },
    {
     "data": {
      "image/png": "[encoded data removed]",
      "text/plain": [
       "<Figure size 432x288 with 1 Axes>"
      ]
     },
     "metadata": {
      "needs_background": "light"
     },
     "output_type": "display_data"
    }
   ],
   "source": [
    "points = f['price']\n",
    "sorted_ = np.sort(points)\n",
    "yvals = np.arange(len(sorted_))/float(len(sorted_))\n",
    "plt.plot(sorted_, yvals)"
   ]
  },
  {
   "cell_type": "code",
   "execution_count": 49,
   "metadata": {},
   "outputs": [
    {
     "data": {
      "image/png": "[encoded data removed]",
      "text/plain": [
       "<Figure size 432x288 with 1 Axes>"
      ]
     },
     "metadata": {
      "needs_background": "light"
     },
     "output_type": "display_data"
    }
   ],
   "source": [
    "df = pd.DataFrame(f['price'])\n",
    "df.plot.box()\n",
    "plt.grid(linestyle=\"--\", alpha=0.3)\n",
    "plt.show()"
   ]
  },
  {
   "cell_type": "markdown",
   "metadata": {},
   "source": [
    "### price删除后差别不大"
   ]
  },
  {
   "cell_type": "markdown",
   "metadata": {},
   "source": [
    "### 3.2 用最高频率值来填补缺失值，并对数值列可视化"
   ]
  },
  {
   "cell_type": "code",
   "execution_count": 95,
   "metadata": {},
   "outputs": [],
   "source": [
    "# 上一步将缺失值删除了 需要重新读入数据\n",
    "f = pd.read_csv('../winemag-data-130k-v2.csv')\n",
    "for c in f.columns[1:]:\n",
    "    if f[c].isnull().any:\n",
    "        most_appear = f[c].value_counts().index[0]\n",
    "        f[c].fillna(most_appear)\n",
    "        \n",
    "    "
   ]
  },
  {
   "cell_type": "code",
   "execution_count": 96,
   "metadata": {},
   "outputs": [
    {
     "data": {
      "image/png": "[encoded data removed]",
      "text/plain": [
       "<Figure size 432x288 with 1 Axes>"
      ]
     },
     "metadata": {
      "needs_background": "light"
     },
     "output_type": "display_data"
    }
   ],
   "source": [
    "df = f.points.sort_values(ascending=False)\n",
    "binsVal = np.arange(60, 120, 0.5)\n",
    "plt.hist(df, bins=binsVal)\n",
    "plt.xlabel('points')\n",
    "plt.ylabel('times')\n",
    "plt.show()"
   ]
  },
  {
   "cell_type": "code",
   "execution_count": 97,
   "metadata": {},
   "outputs": [
    {
     "data": {
      "text/plain": [
       "[<matplotlib.lines.Line2D at 0x1a2992c860>]"
      ]
     },
     "execution_count": 97,
     "metadata": {},
     "output_type": "execute_result"
    },
    {
     "data": {
      "image/png": "[encoded data removed]",
      "text/plain": [
       "<Figure size 432x288 with 1 Axes>"
      ]
     },
     "metadata": {
      "needs_background": "light"
     },
     "output_type": "display_data"
    }
   ],
   "source": [
    "points = f['points']\n",
    "sorted_ = np.sort(points)\n",
    "yvals = np.arange(len(sorted_))/float(len(sorted_))\n",
    "plt.plot(sorted_, yvals)"
   ]
  },
  {
   "cell_type": "code",
   "execution_count": 98,
   "metadata": {},
   "outputs": [
    {
     "data": {
      "image/png": "[encoded data removed]",
      "text/plain": [
       "<Figure size 432x288 with 1 Axes>"
      ]
     },
     "metadata": {
      "needs_background": "light"
     },
     "output_type": "display_data"
    }
   ],
   "source": [
    "fig, ax = plt.subplots()\n",
    "ax.boxplot(f['points'])\n",
    "plt.show()"
   ]
  },
  {
   "cell_type": "markdown",
   "metadata": {},
   "source": [
    "**处理后与处理前差别不大**"
   ]
  },
  {
   "cell_type": "code",
   "execution_count": 100,
   "metadata": {},
   "outputs": [
    {
     "data": {
      "image/png": "[encoded data removed]",
      "text/plain": [
       "<Figure size 432x288 with 1 Axes>"
      ]
     },
     "metadata": {
      "needs_background": "light"
     },
     "output_type": "display_data"
    }
   ],
   "source": [
    "df = f.price.sort_values(ascending=False)\n",
    "binsVal = np.arange(0, 3500, 50)\n",
    "plt.hist(df, bins=binsVal)\n",
    "plt.xlabel('price')\n",
    "plt.ylabel('times')\n",
    "plt.show()"
   ]
  },
  {
   "cell_type": "code",
   "execution_count": 101,
   "metadata": {},
   "outputs": [
    {
     "data": {
      "text/plain": [
       "[<matplotlib.lines.Line2D at 0x1a232eacf8>]"
      ]
     },
     "execution_count": 101,
     "metadata": {},
     "output_type": "execute_result"
    },
    {
     "data": {
      "image/png": "[encoded data removed]",
      "text/plain": [
       "<Figure size 432x288 with 1 Axes>"
      ]
     },
     "metadata": {
      "needs_background": "light"
     },
     "output_type": "display_data"
    }
   ],
   "source": [
    "points = f['price']\n",
    "sorted_ = np.sort(points)\n",
    "yvals = np.arange(len(sorted_))/float(len(sorted_))\n",
    "plt.plot(sorted_, yvals)"
   ]
  },
  {
   "cell_type": "code",
   "execution_count": 102,
   "metadata": {},
   "outputs": [
    {
     "data": {
      "image/png": "[encoded data removed]",
      "text/plain": [
       "<Figure size 432x288 with 1 Axes>"
      ]
     },
     "metadata": {
      "needs_background": "light"
     },
     "output_type": "display_data"
    }
   ],
   "source": [
    "df = pd.DataFrame(f['price'])\n",
    "df.plot.box()\n",
    "plt.grid(linestyle=\"--\", alpha=0.3)\n",
    "plt.show()"
   ]
  },
  {
   "cell_type": "markdown",
   "metadata": {},
   "source": [
    "**处理后与处理前差别不大**"
   ]
  },
  {
   "cell_type": "markdown",
   "metadata": {},
   "source": [
    "### 3.3通过属性的相关关系来填补缺失值"
   ]
  },
  {
   "cell_type": "markdown",
   "metadata": {},
   "source": [
    "### 3.3通过数据对象之间的相似性来填补缺失值"
   ]
  },
  {
   "cell_type": "code",
   "execution_count": null,
   "metadata": {},
   "outputs": [],
   "source": []
  }
 ],
 "metadata": {
  "kernelspec": {
   "display_name": "Python 3",
   "language": "python",
   "name": "python3"
  },
  "language_info": {
   "codemirror_mode": {
    "name": "ipython",
    "version": 3
   },
   "file_extension": ".py",
   "mimetype": "text/x-python",
   "name": "python",
   "nbconvert_exporter": "python",
   "pygments_lexer": "ipython3",
   "version": "3.7.1"
  }
 },
 "nbformat": 4,
 "nbformat_minor": 2
}
