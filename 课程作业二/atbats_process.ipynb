{
 "cells": [
  {
   "cell_type": "code",
   "execution_count": 2,
   "metadata": {},
   "outputs": [],
   "source": [
    "#coding=utf-8\n",
    "import matplotlib.pyplot as plt\n",
    "import pandas as pd\n",
    "import numpy as np"
   ]
  },
  {
   "cell_type": "markdown",
   "metadata": {},
   "source": [
    "### 选用的数据集为 atbats.csv，它统计的是2015-2018年美国职业棒球联盟常规赛期间每个投球的数据。\n",
    "\n",
    "需要处理的列：第一列 `ab_id`是自增的，前四位是年份，标识每一个投球，显然不适合规则挖掘，计划将其简化为年份；第三列是投球的结果，结果的种类较多，计划将其简化；第四列 `g_id` 是比赛标识，前四位是年份，因为有了 `ab_id`，计划将其省去；第五列 `inning` 是比赛的局数，计划将其简化为上中下三个部分；\n",
    "\n",
    "**虽然 `batter_id` 和 `pitcher_id` 的值较多，但是它们是运动员的id，不宜做出改动。**"
   ]
  },
  {
   "cell_type": "code",
   "execution_count": 3,
   "metadata": {},
   "outputs": [],
   "source": [
    "# 读入数据源\n",
    "f = pd.read_csv('../atbats.csv')"
   ]
  },
  {
   "cell_type": "code",
   "execution_count": 4,
   "metadata": {},
   "outputs": [
    {
     "data": {
      "text/plain": [
       "0         2015\n",
       "1         2015\n",
       "2         2015\n",
       "3         2015\n",
       "4         2015\n",
       "5         2015\n",
       "6         2015\n",
       "7         2015\n",
       "8         2015\n",
       "9         2015\n",
       "10        2015\n",
       "11        2015\n",
       "12        2015\n",
       "13        2015\n",
       "14        2015\n",
       "15        2015\n",
       "16        2015\n",
       "17        2015\n",
       "18        2015\n",
       "19        2015\n",
       "20        2015\n",
       "21        2015\n",
       "22        2015\n",
       "23        2015\n",
       "24        2015\n",
       "25        2015\n",
       "26        2015\n",
       "27        2015\n",
       "28        2015\n",
       "29        2015\n",
       "          ... \n",
       "740359    2018\n",
       "740360    2018\n",
       "740361    2018\n",
       "740362    2018\n",
       "740363    2018\n",
       "740364    2018\n",
       "740365    2018\n",
       "740366    2018\n",
       "740367    2018\n",
       "740368    2018\n",
       "740369    2018\n",
       "740370    2018\n",
       "740371    2018\n",
       "740372    2018\n",
       "740373    2018\n",
       "740374    2018\n",
       "740375    2018\n",
       "740376    2018\n",
       "740377    2018\n",
       "740378    2018\n",
       "740379    2018\n",
       "740380    2018\n",
       "740381    2018\n",
       "740382    2018\n",
       "740383    2018\n",
       "740384    2018\n",
       "740385    2018\n",
       "740386    2018\n",
       "740387    2018\n",
       "740388    2018\n",
       "Name: ab_id, Length: 740389, dtype: int64"
      ]
     },
     "execution_count": 4,
     "metadata": {},
     "output_type": "execute_result"
    }
   ],
   "source": [
    "# 简化第一列\n",
    "f.ab_id = f.ab_id.apply(lambda x: int(str(x)[:4]))\n",
    "f.ab_id\n"
   ]
  },
  {
   "cell_type": "code",
   "execution_count": 5,
   "metadata": {},
   "outputs": [
    {
     "data": {
      "text/plain": [
       "A    400815\n",
       "B    302209\n",
       "C     35358\n",
       "D      2007\n",
       "Name: event, dtype: int64"
      ]
     },
     "execution_count": 5,
     "metadata": {},
     "output_type": "execute_result"
    }
   ],
   "source": [
    "#简化第三列，按值的区间划分\n",
    "def func(s):\n",
    "    if s in ['Strikeout', 'Groundout', 'Single']:\n",
    "        return 'A'\n",
    "    elif s in ['Flyout', 'Walk', 'Lineout', 'Pop Out', 'Double', 'Home Run', 'Forceout', 'Grounded Into DP']:\n",
    "        return 'B'\n",
    "    elif s in ['Hit By Pitch', 'Field Error', 'Sac Fly', 'Sac Bunt', 'Intent Walk', 'Triple', 'Double Play', 'Runner Out',\\\n",
    "                'Bunt Groundout', 'Bunt Groundout', 'Fielders Choice Out']:\n",
    "        return 'C'\n",
    "    else:\n",
    "        return 'D'\n",
    "f.event = f.event.apply(func)\n",
    "f.event.value_counts()"
   ]
  },
  {
   "cell_type": "code",
   "execution_count": 6,
   "metadata": {},
   "outputs": [
    {
     "data": {
      "text/plain": [
       "0         top\n",
       "1         top\n",
       "2         top\n",
       "3         top\n",
       "4         top\n",
       "5         top\n",
       "6         top\n",
       "7         top\n",
       "8         top\n",
       "9         top\n",
       "10        top\n",
       "11        top\n",
       "12        top\n",
       "13        top\n",
       "14        top\n",
       "15        top\n",
       "16        top\n",
       "17        top\n",
       "18        top\n",
       "19        top\n",
       "20        top\n",
       "21        top\n",
       "22        top\n",
       "23        top\n",
       "24        top\n",
       "25        top\n",
       "26        top\n",
       "27        mid\n",
       "28        mid\n",
       "29        mid\n",
       "         ... \n",
       "740359    mid\n",
       "740360    mid\n",
       "740361    mid\n",
       "740362    mid\n",
       "740363    mid\n",
       "740364    mid\n",
       "740365    bot\n",
       "740366    bot\n",
       "740367    bot\n",
       "740368    bot\n",
       "740369    bot\n",
       "740370    bot\n",
       "740371    bot\n",
       "740372    bot\n",
       "740373    bot\n",
       "740374    bot\n",
       "740375    bot\n",
       "740376    bot\n",
       "740377    bot\n",
       "740378    bot\n",
       "740379    bot\n",
       "740380    bot\n",
       "740381    bot\n",
       "740382    bot\n",
       "740383    bot\n",
       "740384    bot\n",
       "740385    bot\n",
       "740386    bot\n",
       "740387    bot\n",
       "740388    bot\n",
       "Name: inning, Length: 740389, dtype: object"
      ]
     },
     "execution_count": 6,
     "metadata": {},
     "output_type": "execute_result"
    }
   ],
   "source": [
    "#简化第五列，将其简化为上、中、下三个场次\n",
    "def func(s):\n",
    "    if s <= 3:\n",
    "        return 'top'\n",
    "    elif s <= 6:\n",
    "        return 'mid'\n",
    "    return 'bot'\n",
    "f.inning = f.inning.apply(func)\n",
    "f.inning\n"
   ]
  },
  {
   "cell_type": "code",
   "execution_count": 8,
   "metadata": {},
   "outputs": [],
   "source": [
    "f.to_csv('after.csv', index=False, encoding='utf-8', columns=['ab_id', 'batter_id', 'event', 'inning', 'o', 'p_score',\\\n",
    "        'p_throws', 'pitcher_id', 'stand', 'top'])\n"
   ]
  },
  {
   "cell_type": "code",
   "execution_count": null,
   "metadata": {},
   "outputs": [],
   "source": []
  }
 ],
 "metadata": {
  "kernelspec": {
   "display_name": "Python 3",
   "language": "python",
   "name": "python3"
  },
  "language_info": {
   "codemirror_mode": {
    "name": "ipython",
    "version": 3
   },
   "file_extension": ".py",
   "mimetype": "text/x-python",
   "name": "python",
   "nbconvert_exporter": "python",
   "pygments_lexer": "ipython3",
   "version": "3.7.1"
  }
 },
 "nbformat": 4,
 "nbformat_minor": 2
}
